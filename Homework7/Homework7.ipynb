{
 "cells": [
  {
   "cell_type": "markdown",
   "metadata": {},
   "source": [
    "# Step 1: Import libraries"
   ]
  },
  {
   "cell_type": "code",
   "execution_count": 53,
   "metadata": {},
   "outputs": [],
   "source": [
    "import pandas as pd\n",
    "import numpy as np\n",
    "import matplotlib.pyplot as plt\n",
    "from sklearn.tree import DecisionTreeClassifier"
   ]
  },
  {
   "cell_type": "markdown",
   "metadata": {},
   "source": [
    "# Step 2: Read the training dataset into program\n",
    "1. Use pandas to load the dataset into a padnas dataframe\n",
    "\n",
    "2. Print the first 5 rows of the dataframe along with the size of the dataframe."
   ]
  },
  {
   "cell_type": "code",
   "execution_count": 54,
   "metadata": {},
   "outputs": [
    {
     "name": "stdout",
     "output_type": "stream",
     "text": [
      "             id       screen_name                   location  \\\n",
      "0  8.160000e+17  \"HoustonPokeMap\"              \"Houston, TX\"   \n",
      "1  4.843621e+09         kernyeahx  Templeville town, MD, USA   \n",
      "2  4.303727e+09   mattlieberisbot                        NaN   \n",
      "3  3.063139e+09         sc_papers                        NaN   \n",
      "4  2.955142e+09      lucarivera16      Dublin, United States   \n",
      "\n",
      "                                         description  \\\n",
      "0  \"Rare and strong PokŽmon in Houston, TX. See m...   \n",
      "1  From late 2014 Socium Marketplace will make sh...   \n",
      "2  Inspired by the smart, funny folks at @replyal...   \n",
      "3                                                NaN   \n",
      "4             Inspiring cooks everywhere since 1956.   \n",
      "\n",
      "                         url  followers_count  friends_count  listed_count  \\\n",
      "0  \"https://t.co/dnWuDbFRkt\"             1291              0            10   \n",
      "1                        NaN                1            349             0   \n",
      "2    https://t.co/P1e1o0m4KC             1086              0            14   \n",
      "3                        NaN               33              0             8   \n",
      "4                        NaN               11            745             0   \n",
      "\n",
      "                         created_at  favourites_count  verified  \\\n",
      "0  \"Mon Jan 02 02:25:26 +0000 2017\"                 0     False   \n",
      "1                     2/1/2016 7:37                38     False   \n",
      "2    Fri Nov 20 18:53:22 +0000 2015                 0     False   \n",
      "3                   2/25/2015 20:11                 0     False   \n",
      "4                    1/1/2015 17:44               146     False   \n",
      "\n",
      "   statuses_count  lang                                             status  \\\n",
      "0           78554  \"en\"  {\\n      \"created_at\": \"Sun Mar 12 15:44:04 +0...   \n",
      "1              31    en                                                NaN   \n",
      "2             713    en  {'retweeted': False, 'is_quote_status': False,...   \n",
      "3             676    en  Construction of human anti-tetanus single-chai...   \n",
      "4             185    en                                                NaN   \n",
      "\n",
      "   default_profile  default_profile_image                  name  bot  \n",
      "0             True                  False  \"Houston PokŽ Alert\"    1  \n",
      "1             True                  False           Keri Nelson    1  \n",
      "2             True                  False    Matt Lieber Is Bot    1  \n",
      "3             True                   True    single cell papers    1  \n",
      "4            False                  False          lucarivera16    1  \n",
      "The data frame is 2672 rows by 18 columns\n"
     ]
    }
   ],
   "source": [
    "dataFrame = pd.read_csv(\"clean_data.csv\", delimiter = \",\")\n",
    "\n",
    "print(dataFrame.head(5))\n",
    "numRows, numColumns = dataFrame.shape\n",
    "print(f\"The data frame is {numRows} rows by {numColumns} columns\")"
   ]
  },
  {
   "cell_type": "markdown",
   "metadata": {},
   "source": [
    "# Step 3: Data processing\n",
    "1. Find the number of missing values in each column of your dataframe.\n",
    "\n",
    "2. Delete all the columns that have more than 35% of the values missing."
   ]
  },
  {
   "cell_type": "code",
   "execution_count": 55,
   "metadata": {},
   "outputs": [],
   "source": [
    "numMissing = dataFrame.isnull().sum()\n",
    "\n",
    "cleanedFrame = dataFrame.dropna(axis = 1, thresh = (0.65 * numRows))\n",
    "dataFrame = cleanedFrame"
   ]
  },
  {
   "cell_type": "markdown",
   "metadata": {},
   "source": [
    "# Step 4: Visualization: Friends vs Followers count\n",
    "1. Use Matplotlib scatter plot to visualize friends_count vs followers_counts for both bots and nonbots. Include a legend in your plot."
   ]
  },
  {
   "cell_type": "code",
   "execution_count": 56,
   "metadata": {},
   "outputs": [
    {
     "data": {
      "image/png": "[encoded data removed]",
      "text/plain": [
       "<Figure size 640x480 with 1 Axes>"
      ]
     },
     "metadata": {},
     "output_type": "display_data"
    }
   ],
   "source": [
    "plt.scatter(dataFrame.friends_count, dataFrame.followers_count, label = \"Friends vs. Followers\")\n",
    "plt.title(\"Friend count vs. Follower Count\")\n",
    "plt.xlabel(\"friends_count\")\n",
    "plt.ylabel(\"followers_count\")\n",
    "plt.legend()\n",
    "plt.show()"
   ]
  },
  {
   "cell_type": "markdown",
   "metadata": {},
   "source": [
    "# Step 5: Feature Engineering\n",
    "1. Screen_name is a feature in the dataset that describes the public username or handle of the user.\n",
    "\n",
    "2. Using the following list of strings:<br>\n",
    "    bag_of_words=[bot, follow me, free, fake, virus, troll, clone, tweet me]\n",
    "\n",
    "    Introduce new columns:<br>\n",
    "    • screen_name_binary<br>\n",
    "    • name_binary<br>\n",
    "    • description_binary<br>\n",
    "    • status_binary<br><br>\n",
    "\n",
    "    The values in each of these columns stores True when the value in the corresponding column contains a substring from the bag_of_words and False when it does not. The value should be False when the corresponding value is NaN."
   ]
  },
  {
   "cell_type": "code",
   "execution_count": 57,
   "metadata": {},
   "outputs": [],
   "source": [
    "bag_of_words = [\"bot\", \"follow me\", \"free\", \"fake\", \"virus\", \"troll\", \"clone\", \"tweet me\"]\n",
    "\n",
    "# used to determine true/false for the binary columns\n",
    "def binary(data):\n",
    "    if data != \"NaN\":\n",
    "        for sub in bag_of_words:\n",
    "            if sub in str(data).lower(): # .lower() for case insensitivity\n",
    "                return True\n",
    "    return False\n",
    "\n",
    "# use the 'apply' function to add the binary columns\n",
    "dataFrame.insert(dataFrame.shape[1], \"screen_name_binary\", dataFrame.screen_name.apply(binary))\n",
    "dataFrame.insert(dataFrame.shape[1], \"name_binary\", dataFrame.name.apply(binary))\n",
    "dataFrame.insert(dataFrame.shape[1], \"description_binary\", dataFrame.description.apply(binary))\n",
    "dataFrame.insert(dataFrame.shape[1], \"status_binary\", dataFrame.status.apply(binary))"
   ]
  },
  {
   "cell_type": "markdown",
   "metadata": {},
   "source": [
    "# Step 6: Desicion Tree Classifier\n",
    "\n",
    "1. Import DecisionTreeClassifier (already completed in step 1)\n",
    "2. Create a subset of the dataframe that includes the target variable as well as the following features:<br>\n",
    "    • friends_count<br>\n",
    "    • followers_count<br>\n",
    "    • screen_name_binary<br>\n",
    "    • name_binary<br>\n",
    "    • status_binary<br>\n",
    "    • verified<br>\n",
    "    • statuses_count<br>\n",
    "\n",
    "3. Split the data from part 2 into X (features) and Y (Target variable)\n",
    "4. Split the data from  part 3 into 70% training and 30% testing dataset.\n",
    "5. Implement the Decision Tree Classifier\n",
    "6. Print the training and testing accuracy\n",
    "7. Using the method sklearn.tree.export_text, print export_text(clf) to get a text based visualization of your classifier"
   ]
  },
  {
   "cell_type": "code",
   "execution_count": 58,
   "metadata": {},
   "outputs": [
    {
     "name": "stdout",
     "output_type": "stream",
     "text": [
      "Training Accuracy:  1.0\n",
      "Testing Accuracy:  0.8478802992518704\n",
      "\n",
      "\n",
      "|--- feature_5 <= 0.50\n",
      "|   |--- feature_0 <= 5.50\n",
      "|   |   |--- feature_6 <= 35.00\n",
      "|   |   |   |--- feature_0 <= 3.50\n",
      "|   |   |   |   |--- feature_1 <= 23407.00\n",
      "|   |   |   |   |   |--- class: 1\n",
      "|   |   |   |   |--- feature_1 >  23407.00\n",
      "|   |   |   |   |   |--- class: 0\n",
      "|   |   |   |--- feature_0 >  3.50\n",
      "|   |   |   |   |--- feature_1 <= 1.50\n",
      "|   |   |   |   |   |--- feature_6 <= 2.00\n",
      "|   |   |   |   |   |   |--- class: 0\n",
      "|   |   |   |   |   |--- feature_6 >  2.00\n",
      "|   |   |   |   |   |   |--- class: 1\n",
      "|   |   |   |   |--- feature_1 >  1.50\n",
      "|   |   |   |   |   |--- class: 0\n",
      "|   |   |--- feature_6 >  35.00\n",
      "|   |   |   |--- feature_1 <= 23474.50\n",
      "|   |   |   |   |--- feature_1 <= 238.50\n",
      "|   |   |   |   |   |--- feature_6 <= 491.50\n",
      "|   |   |   |   |   |   |--- feature_6 <= 448.50\n",
      "|   |   |   |   |   |   |   |--- class: 1\n",
      "|   |   |   |   |   |   |--- feature_6 >  448.50\n",
      "|   |   |   |   |   |   |   |--- class: 0\n",
      "|   |   |   |   |   |--- feature_6 >  491.50\n",
      "|   |   |   |   |   |   |--- class: 1\n",
      "|   |   |   |   |--- feature_1 >  238.50\n",
      "|   |   |   |   |   |--- feature_1 <= 241.00\n",
      "|   |   |   |   |   |   |--- class: 0\n",
      "|   |   |   |   |   |--- feature_1 >  241.00\n",
      "|   |   |   |   |   |   |--- feature_6 <= 7943.50\n",
      "|   |   |   |   |   |   |   |--- feature_6 <= 7900.50\n",
      "|   |   |   |   |   |   |   |   |--- feature_1 <= 404.00\n",
      "|   |   |   |   |   |   |   |   |   |--- feature_1 <= 373.00\n",
      "|   |   |   |   |   |   |   |   |   |   |--- feature_0 <= 0.50\n",
      "|   |   |   |   |   |   |   |   |   |   |   |--- truncated branch of depth 4\n",
      "|   |   |   |   |   |   |   |   |   |   |--- feature_0 >  0.50\n",
      "|   |   |   |   |   |   |   |   |   |   |   |--- class: 1\n",
      "|   |   |   |   |   |   |   |   |   |--- feature_1 >  373.00\n",
      "|   |   |   |   |   |   |   |   |   |   |--- class: 0\n",
      "|   |   |   |   |   |   |   |   |--- feature_1 >  404.00\n",
      "|   |   |   |   |   |   |   |   |   |--- feature_1 <= 4213.50\n",
      "|   |   |   |   |   |   |   |   |   |   |--- class: 1\n",
      "|   |   |   |   |   |   |   |   |   |--- feature_1 >  4213.50\n",
      "|   |   |   |   |   |   |   |   |   |   |--- feature_2 <= 0.50\n",
      "|   |   |   |   |   |   |   |   |   |   |   |--- class: 1\n",
      "|   |   |   |   |   |   |   |   |   |   |--- feature_2 >  0.50\n",
      "|   |   |   |   |   |   |   |   |   |   |   |--- class: 0\n",
      "|   |   |   |   |   |   |   |--- feature_6 >  7900.50\n",
      "|   |   |   |   |   |   |   |   |--- class: 0\n",
      "|   |   |   |   |   |   |--- feature_6 >  7943.50\n",
      "|   |   |   |   |   |   |   |--- feature_6 <= 98695.00\n",
      "|   |   |   |   |   |   |   |   |--- class: 1\n",
      "|   |   |   |   |   |   |   |--- feature_6 >  98695.00\n",
      "|   |   |   |   |   |   |   |   |--- feature_6 <= 105358.00\n",
      "|   |   |   |   |   |   |   |   |   |--- class: 0\n",
      "|   |   |   |   |   |   |   |   |--- feature_6 >  105358.00\n",
      "|   |   |   |   |   |   |   |   |   |--- class: 1\n",
      "|   |   |   |--- feature_1 >  23474.50\n",
      "|   |   |   |   |--- feature_1 <= 35438.00\n",
      "|   |   |   |   |   |--- class: 0\n",
      "|   |   |   |   |--- feature_1 >  35438.00\n",
      "|   |   |   |   |   |--- feature_6 <= 8128.50\n",
      "|   |   |   |   |   |   |--- feature_4 <= 0.50\n",
      "|   |   |   |   |   |   |   |--- class: 0\n",
      "|   |   |   |   |   |   |--- feature_4 >  0.50\n",
      "|   |   |   |   |   |   |   |--- class: 1\n",
      "|   |   |   |   |   |--- feature_6 >  8128.50\n",
      "|   |   |   |   |   |   |--- class: 1\n",
      "|   |--- feature_0 >  5.50\n",
      "|   |   |--- feature_1 <= 5.50\n",
      "|   |   |   |--- feature_0 <= 20.50\n",
      "|   |   |   |   |--- feature_6 <= 0.50\n",
      "|   |   |   |   |   |--- class: 1\n",
      "|   |   |   |   |--- feature_6 >  0.50\n",
      "|   |   |   |   |   |--- feature_1 <= 2.50\n",
      "|   |   |   |   |   |   |--- feature_1 <= 0.50\n",
      "|   |   |   |   |   |   |   |--- class: 0\n",
      "|   |   |   |   |   |   |--- feature_1 >  0.50\n",
      "|   |   |   |   |   |   |   |--- feature_0 <= 8.00\n",
      "|   |   |   |   |   |   |   |   |--- class: 0\n",
      "|   |   |   |   |   |   |   |--- feature_0 >  8.00\n",
      "|   |   |   |   |   |   |   |   |--- class: 1\n",
      "|   |   |   |   |   |--- feature_1 >  2.50\n",
      "|   |   |   |   |   |   |--- class: 0\n",
      "|   |   |   |--- feature_0 >  20.50\n",
      "|   |   |   |   |--- feature_0 <= 196.00\n",
      "|   |   |   |   |   |--- feature_1 <= 1.50\n",
      "|   |   |   |   |   |   |--- feature_6 <= 40.00\n",
      "|   |   |   |   |   |   |   |--- class: 1\n",
      "|   |   |   |   |   |   |--- feature_6 >  40.00\n",
      "|   |   |   |   |   |   |   |--- feature_6 <= 58.50\n",
      "|   |   |   |   |   |   |   |   |--- class: 0\n",
      "|   |   |   |   |   |   |   |--- feature_6 >  58.50\n",
      "|   |   |   |   |   |   |   |   |--- class: 1\n",
      "|   |   |   |   |   |--- feature_1 >  1.50\n",
      "|   |   |   |   |   |   |--- feature_6 <= 23.50\n",
      "|   |   |   |   |   |   |   |--- feature_0 <= 29.00\n",
      "|   |   |   |   |   |   |   |   |--- class: 1\n",
      "|   |   |   |   |   |   |   |--- feature_0 >  29.00\n",
      "|   |   |   |   |   |   |   |   |--- feature_0 <= 84.00\n",
      "|   |   |   |   |   |   |   |   |   |--- feature_6 <= 3.50\n",
      "|   |   |   |   |   |   |   |   |   |   |--- feature_6 <= 2.50\n",
      "|   |   |   |   |   |   |   |   |   |   |   |--- truncated branch of depth 5\n",
      "|   |   |   |   |   |   |   |   |   |   |--- feature_6 >  2.50\n",
      "|   |   |   |   |   |   |   |   |   |   |   |--- class: 1\n",
      "|   |   |   |   |   |   |   |   |   |--- feature_6 >  3.50\n",
      "|   |   |   |   |   |   |   |   |   |   |--- class: 0\n",
      "|   |   |   |   |   |   |   |   |--- feature_0 >  84.00\n",
      "|   |   |   |   |   |   |   |   |   |--- feature_0 <= 165.50\n",
      "|   |   |   |   |   |   |   |   |   |   |--- class: 1\n",
      "|   |   |   |   |   |   |   |   |   |--- feature_0 >  165.50\n",
      "|   |   |   |   |   |   |   |   |   |   |--- class: 0\n",
      "|   |   |   |   |   |   |--- feature_6 >  23.50\n",
      "|   |   |   |   |   |   |   |--- class: 1\n",
      "|   |   |   |   |--- feature_0 >  196.00\n",
      "|   |   |   |   |   |--- feature_1 <= 0.50\n",
      "|   |   |   |   |   |   |--- feature_6 <= 35.50\n",
      "|   |   |   |   |   |   |   |--- class: 1\n",
      "|   |   |   |   |   |   |--- feature_6 >  35.50\n",
      "|   |   |   |   |   |   |   |--- feature_6 <= 37.50\n",
      "|   |   |   |   |   |   |   |   |--- class: 0\n",
      "|   |   |   |   |   |   |   |--- feature_6 >  37.50\n",
      "|   |   |   |   |   |   |   |   |--- class: 1\n",
      "|   |   |   |   |   |--- feature_1 >  0.50\n",
      "|   |   |   |   |   |   |--- class: 1\n",
      "|   |   |--- feature_1 >  5.50\n",
      "|   |   |   |--- feature_2 <= 0.50\n",
      "|   |   |   |   |--- feature_6 <= 22312.00\n",
      "|   |   |   |   |   |--- feature_0 <= 1494.50\n",
      "|   |   |   |   |   |   |--- feature_0 <= 45.50\n",
      "|   |   |   |   |   |   |   |--- feature_6 <= 64.00\n",
      "|   |   |   |   |   |   |   |   |--- feature_1 <= 8.00\n",
      "|   |   |   |   |   |   |   |   |   |--- feature_6 <= 6.00\n",
      "|   |   |   |   |   |   |   |   |   |   |--- feature_6 <= 1.50\n",
      "|   |   |   |   |   |   |   |   |   |   |   |--- truncated branch of depth 2\n",
      "|   |   |   |   |   |   |   |   |   |   |--- feature_6 >  1.50\n",
      "|   |   |   |   |   |   |   |   |   |   |   |--- class: 1\n",
      "|   |   |   |   |   |   |   |   |   |--- feature_6 >  6.00\n",
      "|   |   |   |   |   |   |   |   |   |   |--- class: 0\n",
      "|   |   |   |   |   |   |   |   |--- feature_1 >  8.00\n",
      "|   |   |   |   |   |   |   |   |   |--- feature_0 <= 20.00\n",
      "|   |   |   |   |   |   |   |   |   |   |--- feature_1 <= 11.00\n",
      "|   |   |   |   |   |   |   |   |   |   |   |--- class: 1\n",
      "|   |   |   |   |   |   |   |   |   |   |--- feature_1 >  11.00\n",
      "|   |   |   |   |   |   |   |   |   |   |   |--- truncated branch of depth 3\n",
      "|   |   |   |   |   |   |   |   |   |--- feature_0 >  20.00\n",
      "|   |   |   |   |   |   |   |   |   |   |--- class: 0\n",
      "|   |   |   |   |   |   |   |--- feature_6 >  64.00\n",
      "|   |   |   |   |   |   |   |   |--- feature_1 <= 1052.00\n",
      "|   |   |   |   |   |   |   |   |   |--- feature_1 <= 96.50\n",
      "|   |   |   |   |   |   |   |   |   |   |--- feature_6 <= 198.50\n",
      "|   |   |   |   |   |   |   |   |   |   |   |--- class: 1\n",
      "|   |   |   |   |   |   |   |   |   |   |--- feature_6 >  198.50\n",
      "|   |   |   |   |   |   |   |   |   |   |   |--- truncated branch of depth 6\n",
      "|   |   |   |   |   |   |   |   |   |--- feature_1 >  96.50\n",
      "|   |   |   |   |   |   |   |   |   |   |--- class: 1\n",
      "|   |   |   |   |   |   |   |   |--- feature_1 >  1052.00\n",
      "|   |   |   |   |   |   |   |   |   |--- feature_6 <= 2274.50\n",
      "|   |   |   |   |   |   |   |   |   |   |--- class: 0\n",
      "|   |   |   |   |   |   |   |   |   |--- feature_6 >  2274.50\n",
      "|   |   |   |   |   |   |   |   |   |   |--- feature_4 <= 0.50\n",
      "|   |   |   |   |   |   |   |   |   |   |   |--- truncated branch of depth 5\n",
      "|   |   |   |   |   |   |   |   |   |   |--- feature_4 >  0.50\n",
      "|   |   |   |   |   |   |   |   |   |   |   |--- class: 0\n",
      "|   |   |   |   |   |   |--- feature_0 >  45.50\n",
      "|   |   |   |   |   |   |   |--- feature_1 <= 11.50\n",
      "|   |   |   |   |   |   |   |   |--- feature_0 <= 142.50\n",
      "|   |   |   |   |   |   |   |   |   |--- feature_6 <= 9.00\n",
      "|   |   |   |   |   |   |   |   |   |   |--- feature_1 <= 7.00\n",
      "|   |   |   |   |   |   |   |   |   |   |   |--- class: 0\n",
      "|   |   |   |   |   |   |   |   |   |   |--- feature_1 >  7.00\n",
      "|   |   |   |   |   |   |   |   |   |   |   |--- truncated branch of depth 4\n",
      "|   |   |   |   |   |   |   |   |   |--- feature_6 >  9.00\n",
      "|   |   |   |   |   |   |   |   |   |   |--- class: 0\n",
      "|   |   |   |   |   |   |   |   |--- feature_0 >  142.50\n",
      "|   |   |   |   |   |   |   |   |   |--- feature_0 <= 185.50\n",
      "|   |   |   |   |   |   |   |   |   |   |--- feature_0 <= 168.00\n",
      "|   |   |   |   |   |   |   |   |   |   |   |--- class: 1\n",
      "|   |   |   |   |   |   |   |   |   |   |--- feature_0 >  168.00\n",
      "|   |   |   |   |   |   |   |   |   |   |   |--- class: 0\n",
      "|   |   |   |   |   |   |   |   |   |--- feature_0 >  185.50\n",
      "|   |   |   |   |   |   |   |   |   |   |--- class: 1\n",
      "|   |   |   |   |   |   |   |--- feature_1 >  11.50\n",
      "|   |   |   |   |   |   |   |   |--- feature_6 <= 24.50\n",
      "|   |   |   |   |   |   |   |   |   |--- feature_0 <= 95.50\n",
      "|   |   |   |   |   |   |   |   |   |   |--- feature_1 <= 12.50\n",
      "|   |   |   |   |   |   |   |   |   |   |   |--- truncated branch of depth 2\n",
      "|   |   |   |   |   |   |   |   |   |   |--- feature_1 >  12.50\n",
      "|   |   |   |   |   |   |   |   |   |   |   |--- class: 0\n",
      "|   |   |   |   |   |   |   |   |   |--- feature_0 >  95.50\n",
      "|   |   |   |   |   |   |   |   |   |   |--- feature_6 <= 4.50\n",
      "|   |   |   |   |   |   |   |   |   |   |   |--- truncated branch of depth 7\n",
      "|   |   |   |   |   |   |   |   |   |   |--- feature_6 >  4.50\n",
      "|   |   |   |   |   |   |   |   |   |   |   |--- truncated branch of depth 9\n",
      "|   |   |   |   |   |   |   |   |--- feature_6 >  24.50\n",
      "|   |   |   |   |   |   |   |   |   |--- feature_4 <= 0.50\n",
      "|   |   |   |   |   |   |   |   |   |   |--- feature_1 <= 1926.50\n",
      "|   |   |   |   |   |   |   |   |   |   |   |--- truncated branch of depth 16\n",
      "|   |   |   |   |   |   |   |   |   |   |--- feature_1 >  1926.50\n",
      "|   |   |   |   |   |   |   |   |   |   |   |--- class: 0\n",
      "|   |   |   |   |   |   |   |   |   |--- feature_4 >  0.50\n",
      "|   |   |   |   |   |   |   |   |   |   |--- feature_0 <= 116.50\n",
      "|   |   |   |   |   |   |   |   |   |   |   |--- class: 1\n",
      "|   |   |   |   |   |   |   |   |   |   |--- feature_0 >  116.50\n",
      "|   |   |   |   |   |   |   |   |   |   |   |--- truncated branch of depth 6\n",
      "|   |   |   |   |   |--- feature_0 >  1494.50\n",
      "|   |   |   |   |   |   |--- feature_1 <= 85.50\n",
      "|   |   |   |   |   |   |   |--- feature_0 <= 1679.50\n",
      "|   |   |   |   |   |   |   |   |--- feature_0 <= 1585.50\n",
      "|   |   |   |   |   |   |   |   |   |--- class: 1\n",
      "|   |   |   |   |   |   |   |   |--- feature_0 >  1585.50\n",
      "|   |   |   |   |   |   |   |   |   |--- class: 0\n",
      "|   |   |   |   |   |   |   |--- feature_0 >  1679.50\n",
      "|   |   |   |   |   |   |   |   |--- class: 1\n",
      "|   |   |   |   |   |   |--- feature_1 >  85.50\n",
      "|   |   |   |   |   |   |   |--- feature_0 <= 3424.50\n",
      "|   |   |   |   |   |   |   |   |--- feature_6 <= 16016.00\n",
      "|   |   |   |   |   |   |   |   |   |--- feature_6 <= 9.50\n",
      "|   |   |   |   |   |   |   |   |   |   |--- class: 1\n",
      "|   |   |   |   |   |   |   |   |   |--- feature_6 >  9.50\n",
      "|   |   |   |   |   |   |   |   |   |   |--- feature_0 <= 1831.50\n",
      "|   |   |   |   |   |   |   |   |   |   |   |--- truncated branch of depth 6\n",
      "|   |   |   |   |   |   |   |   |   |   |--- feature_0 >  1831.50\n",
      "|   |   |   |   |   |   |   |   |   |   |   |--- truncated branch of depth 4\n",
      "|   |   |   |   |   |   |   |   |--- feature_6 >  16016.00\n",
      "|   |   |   |   |   |   |   |   |   |--- class: 1\n",
      "|   |   |   |   |   |   |   |--- feature_0 >  3424.50\n",
      "|   |   |   |   |   |   |   |   |--- feature_6 <= 920.00\n",
      "|   |   |   |   |   |   |   |   |   |--- feature_0 <= 3916.50\n",
      "|   |   |   |   |   |   |   |   |   |   |--- class: 1\n",
      "|   |   |   |   |   |   |   |   |   |--- feature_0 >  3916.50\n",
      "|   |   |   |   |   |   |   |   |   |   |--- feature_0 <= 4096.50\n",
      "|   |   |   |   |   |   |   |   |   |   |   |--- class: 0\n",
      "|   |   |   |   |   |   |   |   |   |   |--- feature_0 >  4096.50\n",
      "|   |   |   |   |   |   |   |   |   |   |   |--- truncated branch of depth 5\n",
      "|   |   |   |   |   |   |   |   |--- feature_6 >  920.00\n",
      "|   |   |   |   |   |   |   |   |   |--- feature_0 <= 5408.50\n",
      "|   |   |   |   |   |   |   |   |   |   |--- feature_1 <= 3817.00\n",
      "|   |   |   |   |   |   |   |   |   |   |   |--- truncated branch of depth 4\n",
      "|   |   |   |   |   |   |   |   |   |   |--- feature_1 >  3817.00\n",
      "|   |   |   |   |   |   |   |   |   |   |   |--- class: 0\n",
      "|   |   |   |   |   |   |   |   |   |--- feature_0 >  5408.50\n",
      "|   |   |   |   |   |   |   |   |   |   |--- feature_0 <= 8197.50\n",
      "|   |   |   |   |   |   |   |   |   |   |   |--- class: 1\n",
      "|   |   |   |   |   |   |   |   |   |   |--- feature_0 >  8197.50\n",
      "|   |   |   |   |   |   |   |   |   |   |   |--- truncated branch of depth 2\n",
      "|   |   |   |   |--- feature_6 >  22312.00\n",
      "|   |   |   |   |   |--- feature_0 <= 153.00\n",
      "|   |   |   |   |   |   |--- class: 1\n",
      "|   |   |   |   |   |--- feature_0 >  153.00\n",
      "|   |   |   |   |   |   |--- feature_6 <= 37597.50\n",
      "|   |   |   |   |   |   |   |--- feature_6 <= 24712.50\n",
      "|   |   |   |   |   |   |   |   |--- class: 1\n",
      "|   |   |   |   |   |   |   |--- feature_6 >  24712.50\n",
      "|   |   |   |   |   |   |   |   |--- feature_1 <= 1487.50\n",
      "|   |   |   |   |   |   |   |   |   |--- class: 0\n",
      "|   |   |   |   |   |   |   |   |--- feature_1 >  1487.50\n",
      "|   |   |   |   |   |   |   |   |   |--- feature_1 <= 2569.00\n",
      "|   |   |   |   |   |   |   |   |   |   |--- class: 1\n",
      "|   |   |   |   |   |   |   |   |   |--- feature_1 >  2569.00\n",
      "|   |   |   |   |   |   |   |   |   |   |--- class: 0\n",
      "|   |   |   |   |   |   |--- feature_6 >  37597.50\n",
      "|   |   |   |   |   |   |   |--- feature_1 <= 1051.50\n",
      "|   |   |   |   |   |   |   |   |--- class: 1\n",
      "|   |   |   |   |   |   |   |--- feature_1 >  1051.50\n",
      "|   |   |   |   |   |   |   |   |--- feature_3 <= 0.50\n",
      "|   |   |   |   |   |   |   |   |   |--- feature_0 <= 8208.00\n",
      "|   |   |   |   |   |   |   |   |   |   |--- feature_0 <= 390.50\n",
      "|   |   |   |   |   |   |   |   |   |   |   |--- class: 1\n",
      "|   |   |   |   |   |   |   |   |   |   |--- feature_0 >  390.50\n",
      "|   |   |   |   |   |   |   |   |   |   |   |--- truncated branch of depth 5\n",
      "|   |   |   |   |   |   |   |   |   |--- feature_0 >  8208.00\n",
      "|   |   |   |   |   |   |   |   |   |   |--- feature_0 <= 22759.00\n",
      "|   |   |   |   |   |   |   |   |   |   |   |--- class: 1\n",
      "|   |   |   |   |   |   |   |   |   |   |--- feature_0 >  22759.00\n",
      "|   |   |   |   |   |   |   |   |   |   |   |--- truncated branch of depth 6\n",
      "|   |   |   |   |   |   |   |   |--- feature_3 >  0.50\n",
      "|   |   |   |   |   |   |   |   |   |--- class: 1\n",
      "|   |   |   |--- feature_2 >  0.50\n",
      "|   |   |   |   |--- feature_0 <= 486.00\n",
      "|   |   |   |   |   |--- feature_6 <= 6706.50\n",
      "|   |   |   |   |   |   |--- class: 1\n",
      "|   |   |   |   |   |--- feature_6 >  6706.50\n",
      "|   |   |   |   |   |   |--- feature_6 <= 7207.00\n",
      "|   |   |   |   |   |   |   |--- class: 0\n",
      "|   |   |   |   |   |   |--- feature_6 >  7207.00\n",
      "|   |   |   |   |   |   |   |--- class: 1\n",
      "|   |   |   |   |--- feature_0 >  486.00\n",
      "|   |   |   |   |   |--- feature_6 <= 39859.00\n",
      "|   |   |   |   |   |   |--- feature_6 <= 7503.50\n",
      "|   |   |   |   |   |   |   |--- feature_4 <= 0.50\n",
      "|   |   |   |   |   |   |   |   |--- class: 0\n",
      "|   |   |   |   |   |   |   |--- feature_4 >  0.50\n",
      "|   |   |   |   |   |   |   |   |--- class: 1\n",
      "|   |   |   |   |   |   |--- feature_6 >  7503.50\n",
      "|   |   |   |   |   |   |   |--- class: 0\n",
      "|   |   |   |   |   |--- feature_6 >  39859.00\n",
      "|   |   |   |   |   |   |--- class: 1\n",
      "|--- feature_5 >  0.50\n",
      "|   |--- feature_0 <= 312485.50\n",
      "|   |   |--- feature_0 <= 240.50\n",
      "|   |   |   |--- feature_0 <= 239.50\n",
      "|   |   |   |   |--- feature_6 <= 93.50\n",
      "|   |   |   |   |   |--- feature_6 <= 80.50\n",
      "|   |   |   |   |   |   |--- class: 0\n",
      "|   |   |   |   |   |--- feature_6 >  80.50\n",
      "|   |   |   |   |   |   |--- class: 1\n",
      "|   |   |   |   |--- feature_6 >  93.50\n",
      "|   |   |   |   |   |--- class: 0\n",
      "|   |   |   |--- feature_0 >  239.50\n",
      "|   |   |   |   |--- class: 1\n",
      "|   |   |--- feature_0 >  240.50\n",
      "|   |   |   |--- class: 0\n",
      "|   |--- feature_0 >  312485.50\n",
      "|   |   |--- feature_0 <= 372509.50\n",
      "|   |   |   |--- class: 1\n",
      "|   |   |--- feature_0 >  372509.50\n",
      "|   |   |   |--- class: 0\n",
      "\n"
     ]
    }
   ],
   "source": [
    "subsetFrame = dataFrame[[\"bot\", \"friends_count\", \"followers_count\", \"screen_name_binary\", \"name_binary\", \"status_binary\", \"verified\", \"statuses_count\"]]\n",
    "\n",
    "x = subsetFrame[[\"friends_count\", \"followers_count\", \"screen_name_binary\", \"name_binary\", \"status_binary\", \"verified\", \"statuses_count\"]]\n",
    "y = subsetFrame[[\"bot\"]]\n",
    "\n",
    "from sklearn.model_selection import train_test_split\n",
    "xTrain, xTest, yTrain, yTest = train_test_split(x, y, test_size = .3)\n",
    "\n",
    "clf = DecisionTreeClassifier(criterion = \"entropy\")\n",
    "clf.fit(xTrain, yTrain)\n",
    "\n",
    "yTrainPred = clf.predict(xTrain)\n",
    "yTestPred = clf.predict(xTest)\n",
    "\n",
    "from sklearn.metrics import accuracy_score\n",
    "from sklearn.tree import export_text\n",
    "print(\"Training Accuracy: \", accuracy_score(yTrain, yTrainPred))\n",
    "print(\"Testing Accuracy: \", accuracy_score(yTest, yTestPred))\n",
    "print (\"\\n\")\n",
    "print(export_text(clf))"
   ]
  },
  {
   "cell_type": "markdown",
   "metadata": {},
   "source": [
    "# Step 7: Linear Classifier\n",
    "1. Import the LogisticRegression classifier:<br>\n",
    "    from sklearn.linear_model import LogisticRegression<br>\n",
    "    This is a classifier that implements a linear model (contrary to what the name suggests,<br>\n",
    "    a LogisticRegression classifier is actually used for classification).\n",
    "\n",
    "2. Using the same training and test data, fit a LogisticRegression classifier. The code should be almost the same,<br>\n",
    "except that you use clf = LogisticRegression() instead of clf=tree.DecisionTreeClassifier().<br>\n",
    "You still use the .fit and .predict methods in the same way.\n",
    "\n",
    "3. Print the training and testing accuracy for the Logistic Regression classifier."
   ]
  },
  {
   "cell_type": "code",
   "execution_count": 59,
   "metadata": {},
   "outputs": [
    {
     "name": "stdout",
     "output_type": "stream",
     "text": [
      "Training Accuracy:  0.6909090909090909\n",
      "Testing Accuracy:  0.7032418952618454\n"
     ]
    }
   ],
   "source": [
    "from sklearn.linear_model import LogisticRegression\n",
    "\n",
    "# LogisticRegression() only takes 1D arrays for the output variable, not 2D arrays with a single column like DecisionTreeClassifier() can\n",
    "yTrain = yTrain.values.ravel()\n",
    "yTest = yTest.values.ravel()\n",
    "\n",
    "# have to adjust the maximum iteration size of the logistic regression object so that it doesn't overflow\n",
    "clfReg = LogisticRegression(max_iter = len(xTrain))\n",
    "clfReg.fit(xTrain, yTrain)\n",
    "\n",
    "yTrainPredReg = clfReg.predict(xTrain)\n",
    "yTestPredReg = clfReg.predict(xTest)\n",
    "\n",
    "print(\"Training Accuracy: \", accuracy_score(yTrain, yTrainPredReg))\n",
    "print(\"Testing Accuracy: \", accuracy_score(yTest, yTestPredReg))"
   ]
  },
  {
   "cell_type": "markdown",
   "metadata": {},
   "source": [
    "# 1.3: Short Answer\n",
    "\n",
    "1. Yes, friends_count and followers_ count should be usable for classification. The majority of the data is clustered in the lower-left region of the graph, indicating a relationship between having a low friend count and a low follower count.\n",
    "\n",
    "2. The training accuracy for the DecisionTree was around 100%, and the testing accuracy was around 85% The testing accuracy is a better representative of the quality of the classifier because the classifier was made using the training data; it's already implied that the training data would match the classifier, and using unrecognized data to test the consistency of the classifier gives more realistic results.\n",
    "\n",
    "3. Logistic Regression seems to be better than a decision tree for this classification test. Because the training data was 100% for the desicion tree, and it had a lower testing accuracy, we can assume that overfitting occured.\n",
    "\n",
    "4. <br>\n",
    "a)"
   ]
  },
  {
   "cell_type": "code",
   "execution_count": 60,
   "metadata": {},
   "outputs": [
    {
     "name": "stdout",
     "output_type": "stream",
     "text": [
      "Training Accuracy:  0.7935828877005348\n",
      "Testing Accuracy:  0.770573566084788\n",
      "\n",
      "\n",
      "|--- feature_0 <= 43.50\n",
      "|   |--- feature_5 <= 0.50\n",
      "|   |   |--- class: 1\n",
      "|   |--- feature_5 >  0.50\n",
      "|   |   |--- class: 0\n",
      "|--- feature_0 >  43.50\n",
      "|   |--- feature_5 <= 0.50\n",
      "|   |   |--- class: 0\n",
      "|   |--- feature_5 >  0.50\n",
      "|   |   |--- class: 0\n",
      "\n"
     ]
    }
   ],
   "source": [
    "subsetFrame = dataFrame[[\"bot\", \"friends_count\", \"followers_count\", \"screen_name_binary\", \"name_binary\", \"status_binary\", \"verified\", \"statuses_count\"]]\n",
    "\n",
    "x = subsetFrame[[\"friends_count\", \"followers_count\", \"screen_name_binary\", \"name_binary\", \"status_binary\", \"verified\", \"statuses_count\"]]\n",
    "y = subsetFrame[[\"bot\"]]\n",
    "\n",
    "from sklearn.model_selection import train_test_split\n",
    "xTrain, xTest, yTrain, yTest = train_test_split(x, y, test_size = .3)\n",
    "\n",
    "clf = DecisionTreeClassifier(criterion = \"entropy\", max_depth = 2)\n",
    "clf.fit(xTrain, yTrain)\n",
    "\n",
    "yTrainPred = clf.predict(xTrain)\n",
    "yTestPred = clf.predict(xTest)\n",
    "\n",
    "from sklearn.metrics import accuracy_score\n",
    "from sklearn.tree import export_text\n",
    "print(\"Training Accuracy: \", accuracy_score(yTrain, yTrainPred))\n",
    "print(\"Testing Accuracy: \", accuracy_score(yTest, yTestPred))\n",
    "print (\"\\n\")\n",
    "print(export_text(clf))"
   ]
  },
  {
   "cell_type": "markdown",
   "metadata": {},
   "source": [
    "b) This new decision tree classifies users based on their friend count and based on whether or not their account is verified\n",
    "\n",
    "c) These two features, the friend count/interaction on the account and whether or not it's verified, are the best qualifiers for determining whether or not an account is a bot<br>\n",
    "\n",
    "5. 46.2% (1236/2672) users in the data set are bots. If only 10% of users were bots, 85% accuracy would not be very good as you would be missing a more significant number of bot accounts to false negatives."
   ]
  },
  {
   "cell_type": "code",
   "execution_count": 61,
   "metadata": {},
   "outputs": [
    {
     "name": "stdout",
     "output_type": "stream",
     "text": [
      "1236 bots out of 2672 users.\n"
     ]
    }
   ],
   "source": [
    "print(dataFrame.bot.sum(), \"bots out of\", len(dataFrame), \"users.\")"
   ]
  },
  {
   "cell_type": "markdown",
   "metadata": {},
   "source": [
    "6. Assigning the first 70% of data points as training data and last 30% as testing data could be problematic if the data is sorted or ordered in some way, which in the majority of cases it is. This would be problematic because your training data could have some kind of shared or similar quality that your testing data would have less of because of the ordering, or vice versa. It would be better to randomly assign 70% / 30% of the data to training / testing.\n",
    "\n",
    "7. This assignment pre-determined how to clean missing data from the set, how to how to visualize the data,the account attributes we used to classify accounts, the type of classifiers we used, and percentage split between training/testing data."
   ]
  },
  {
   "cell_type": "markdown",
   "metadata": {},
   "source": [
    "# Part 2. More with Decision Tree and Linear Classifiers"
   ]
  },
  {
   "cell_type": "markdown",
   "metadata": {},
   "source": [
    "# 2.1 Python code\n",
    "\n",
    "# Step 1: Create an artificial dataset\n",
    "Create a dataset, stored in a Pandas Dataframe, with the following properties:<br>\n",
    "\n",
    "1. The dataset has 2 numerical input variables named X1 and X2.\n",
    "\n",
    "2. The dataset has 1 binary output variable named Y, which is 0 or 1.\n",
    "\n",
    "3. This dataset has 1000 rows, generated as follows: for each row, generate X1 and X2<br>\n",
    "as (independent) random real numbers between 0 and 1. The value of Y should be 1<br>\n",
    "if X1+X2 > 1 and 0 otherwise. To get random numbers between 0 and 1, you can<br>\n",
    "import random and use random.random()"
   ]
  },
  {
   "cell_type": "code",
   "execution_count": 62,
   "metadata": {},
   "outputs": [],
   "source": [
    "import random\n",
    "\n",
    "artificialFrame = pd.DataFrame({\"X1\": [random.random() for _ in range(1000)], \"X2\": [random.random() for _ in range(1000)]})\n",
    "artificialFrame[\"Y\"] = artificialFrame.apply(lambda row: 1 if row[\"X1\"] + row[\"X2\"] > 1 else 0, axis = 1)"
   ]
  },
  {
   "cell_type": "markdown",
   "metadata": {},
   "source": [
    "# Step 2: Visualization\n",
    "\n",
    "Create a scatter plot of your data that has the input variables on the two axis. The data points shoul dbe one of two colors, depending on the value of y"
   ]
  },
  {
   "cell_type": "code",
   "execution_count": 63,
   "metadata": {},
   "outputs": [
    {
     "data": {
      "text/plain": [
       "<function matplotlib.pyplot.show(close=None, block=None)>"
      ]
     },
     "execution_count": 63,
     "metadata": {},
     "output_type": "execute_result"
    },
    {
     "data": {
      "image/png": "[encoded data removed]",
      "text/plain": [
       "<Figure size 640x480 with 1 Axes>"
      ]
     },
     "metadata": {},
     "output_type": "display_data"
    }
   ],
   "source": [
    "greaterThan1 = artificialFrame[artificialFrame[\"Y\"] == 1]\n",
    "lessThan1 = artificialFrame[artificialFrame[\"Y\"] == 0]\n",
    "\n",
    "plt.scatter(greaterThan1[\"X1\"], greaterThan1[\"X2\"], label = \"Y = 1\")\n",
    "plt.scatter(lessThan1[\"X1\"], lessThan1[\"X2\"], label = \"Y = 0\")\n",
    "plt.xlabel(\"X1\")\n",
    "plt.ylabel(\"X2\")\n",
    "plt.legend()\n",
    "plt.show"
   ]
  },
  {
   "cell_type": "markdown",
   "metadata": {},
   "source": [
    "# Step 3: Classifier\n",
    "\n",
    "Fit a DecisionTreeClassifier with parameter max_depth=2 to this<br>\n",
    "dataset. Then fit a LogisticRegression classifier to this dataset, and print the accuracy<br>\n",
    "of each classifier (again, on the whole dataset)."
   ]
  },
  {
   "cell_type": "code",
   "execution_count": 64,
   "metadata": {},
   "outputs": [
    {
     "name": "stdout",
     "output_type": "stream",
     "text": [
      "Decision Tree Accuracy:  0.859\n",
      "Logistic Regression Accuracy:  0.991\n"
     ]
    }
   ],
   "source": [
    "clf = DecisionTreeClassifier(criterion = \"entropy\", max_depth = 2)\n",
    "\n",
    "X = artificialFrame[['X1', 'X2']]\n",
    "Y = artificialFrame[['Y']].values.ravel()\n",
    "\n",
    "clf.fit(X, Y)\n",
    "\n",
    "yPred = clf.predict(X)\n",
    "\n",
    "print(\"Decision Tree Accuracy: \", accuracy_score(Y, yPred))\n",
    "\n",
    "\n",
    "reg = LogisticRegression()\n",
    "reg.fit(X, Y)\n",
    "\n",
    "yPredReg = reg.predict(X)\n",
    "\n",
    "print(\"Logistic Regression Accuracy: \", accuracy_score(Y, yPredReg))"
   ]
  },
  {
   "cell_type": "markdown",
   "metadata": {},
   "source": [
    "# 2.2 Short answer\n",
    "\n",
    "1. I expected the logistic regression classifier to get 100% accuracy on this dataset because there is a linear boundary between the two possible output values: Y = 1 and Y = 0.\n",
    "\n",
    "2. My decision tree classifier had an accuracy of 0.845\n",
    "\n",
    "3. The accuracy of the decision tree us 1.0 now that the max_depth parameter has been removed.\n"
   ]
  },
  {
   "cell_type": "code",
   "execution_count": 65,
   "metadata": {},
   "outputs": [
    {
     "name": "stdout",
     "output_type": "stream",
     "text": [
      "Decision Tree 2 Accuracy:  1.0\n"
     ]
    }
   ],
   "source": [
    "clf2 = DecisionTreeClassifier(criterion = \"entropy\")\n",
    "clf2.fit(X, Y)\n",
    "YPred2 = clf2.predict(X)\n",
    "\n",
    "print(\"Decision Tree 2 Accuracy: \", accuracy_score(Y, YPred2))"
   ]
  },
  {
   "cell_type": "markdown",
   "metadata": {},
   "source": [
    "4. Without a limited depth, the decision tree eventually traverses through every possible sum in the data set, and determines if it would be greater than or less than 1. It predicts everything perfectly because every possibilty is included in the decision tree."
   ]
  }
 ],
 "metadata": {
  "kernelspec": {
   "display_name": "Python 3",
   "language": "python",
   "name": "python3"
  },
  "language_info": {
   "codemirror_mode": {
    "name": "ipython",
    "version": 3
   },
   "file_extension": ".py",
   "mimetype": "text/x-python",
   "name": "python",
   "nbconvert_exporter": "python",
   "pygments_lexer": "ipython3",
   "version": "3.11.9"
  }
 },
 "nbformat": 4,
 "nbformat_minor": 2
}
